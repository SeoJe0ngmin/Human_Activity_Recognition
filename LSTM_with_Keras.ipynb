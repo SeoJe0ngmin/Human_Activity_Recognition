{
 "cells": [
  {
   "cell_type": "code",
   "execution_count": 51,
   "metadata": {},
   "outputs": [
    {
     "name": "stdout",
     "output_type": "stream",
     "text": [
      "Python 3.8.20\n"
     ]
    }
   ],
   "source": [
    "!python --version"
   ]
  },
  {
   "cell_type": "code",
   "execution_count": 52,
   "metadata": {},
   "outputs": [
    {
     "name": "stdout",
     "output_type": "stream",
     "text": [
      "tensor([1.], device='mps:0')\n"
     ]
    }
   ],
   "source": [
    "import torch\n",
    "if torch.backends.mps.is_available():\n",
    "    mps_device = torch.device(\"mps\")\n",
    "    x = torch.ones(1, device=mps_device)\n",
    "    print (x)\n",
    "else:\n",
    "    print (\"MPS device not found.\")"
   ]
  },
  {
   "cell_type": "code",
   "execution_count": 53,
   "metadata": {},
   "outputs": [
    {
     "name": "stdout",
     "output_type": "stream",
     "text": [
      "Num GPUs Available:  1\n",
      "[PhysicalDevice(name='/physical_device:GPU:0', device_type='GPU')]\n"
     ]
    }
   ],
   "source": [
    "import tensorflow as tf\n",
    "\n",
    "print(\"Num GPUs Available: \", len(tf.config.list_physical_devices('GPU')))\n",
    "print(tf.config.list_physical_devices('GPU'))"
   ]
  },
  {
   "cell_type": "code",
   "execution_count": 54,
   "metadata": {
    "collapsed": true
   },
   "outputs": [],
   "source": [
    "import os\n",
    "import json\n",
    "import numpy as np\n",
    "import tensorflow as tf\n",
    "from tensorflow.keras.models import Sequential\n",
    "from tensorflow.keras.layers import LSTM, Dense, Dropout\n",
    "from tensorflow.keras.callbacks import ModelCheckpoint, EarlyStopping, CSVLogger\n",
    "\n",
    "from sklearn.metrics import classification_report, confusion_matrix\n",
    "from sklearn.model_selection import train_test_split\n",
    "import optuna\n",
    "import matplotlib.pyplot as plt"
   ]
  },
  {
   "cell_type": "code",
   "execution_count": null,
   "metadata": {},
   "outputs": [
    {
     "name": "stdout",
     "output_type": "stream",
     "text": [
      "Using GPU: PhysicalDevice(name='/physical_device:GPU:0', device_type='GPU')\n"
     ]
    }
   ],
   "source": [
    "physical_devices = tf.config.list_physical_devices('GPU')\n",
    "if physical_devices:\n",
    "    tf.config.experimental.set_memory_growth(physical_devices[0], True)\n",
    "    tf.config.set_visible_devices(physical_devices[0], 'GPU')\n",
    "    print(\"Using GPU:\", physical_devices[0])\n",
    "else:\n",
    "    print(\"No GPU found, using CPU.\")"
   ]
  },
  {
   "cell_type": "code",
   "execution_count": 56,
   "metadata": {},
   "outputs": [],
   "source": [
    "SEED = 42\n",
    "np.random.seed(SEED)\n",
    "tf.random.set_seed(SEED)"
   ]
  },
  {
   "cell_type": "code",
   "execution_count": 57,
   "metadata": {},
   "outputs": [],
   "source": [
    "dataset_path = \"/Users/seojeongmin/Desktop/study/Human_Activity_Recognition/dataset/human+activity+recognition+using+smartphones/UCI HAR Dataset/\"\n",
    "train_path = \"train/\"\n",
    "test_path = \"test/\""
   ]
  },
  {
   "cell_type": "code",
   "execution_count": 58,
   "metadata": {},
   "outputs": [],
   "source": [
    "input_signal_types = [\n",
    "    \"body_acc_x_\", \"body_acc_y_\", \"body_acc_z_\",\n",
    "    \"body_gyro_x_\", \"body_gyro_y_\", \"body_gyro_z_\",\n",
    "    \"total_acc_x_\", \"total_acc_y_\", \"total_acc_z_\"\n",
    "]\n",
    "\n",
    "labels = [\"WALKING\", \"WALKING_UPSTAIRS\", \"WALKING_DOWNSTAIRS\", \"SITTING\", \"STANDING\", \"LAYING\"]"
   ]
  },
  {
   "cell_type": "code",
   "execution_count": null,
   "metadata": {},
   "outputs": [],
   "source": [
    "def load_x(x_signals_paths):\n",
    "    x_signals = []\n",
    "    for signal_type_path in x_signals_paths:\n",
    "        with open(signal_type_path, 'r') as file:\n",
    "            x_signals.append(\n",
    "                np.array([\n",
    "                    [float(val) for val in row.strip().split()] for row in file\n",
    "                ])\n",
    "            )\n",
    "    return np.transpose(np.array(x_signals), (1, 2, 0))\n",
    "\n",
    "def load_y(y_path):\n",
    "    with open(y_path, 'r') as file:\n",
    "        y_ = np.array([int(row.strip()) for row in file])\n",
    "    return y_ - 1"
   ]
  },
  {
   "cell_type": "code",
   "execution_count": null,
   "metadata": {},
   "outputs": [],
   "source": [
    "x_train_signals_paths = [\n",
    "    dataset_path + train_path + \"Inertial Signals/\" + signal + \"train.txt\" for signal in input_signal_types\n",
    "]\n",
    "x_test_signals_paths = [\n",
    "    dataset_path + test_path + \"Inertial Signals/\" + signal + \"test.txt\" for signal in input_signal_types\n",
    "]\n",
    "\n",
    "x_train = load_x(x_train_signals_paths)\n",
    "x_test = load_x(x_test_signals_paths)\n",
    "\n",
    "y_train_path = dataset_path + train_path + \"y_train.txt\"\n",
    "y_test_path = dataset_path + test_path + \"y_test.txt\"\n",
    "\n",
    "y_train = load_y(y_train_path)\n",
    "y_test = load_y(y_test_path)"
   ]
  },
  {
   "cell_type": "code",
   "execution_count": null,
   "metadata": {},
   "outputs": [
    {
     "name": "stdout",
     "output_type": "stream",
     "text": [
      "x_train shape: (7352, 128, 9)\n",
      "x_test shape: (2947, 128, 9)\n",
      "y_train shape: (7352,)\n",
      "y_test shape: (2947,)\n"
     ]
    }
   ],
   "source": [
    "print(f\"x_train shape: {x_train.shape}\")\n",
    "print(f\"x_test shape: {x_test.shape}\")  \n",
    "print(f\"y_train shape: {y_train.shape}\")\n",
    "print(f\"y_test shape: {y_test.shape}\")  "
   ]
  },
  {
   "cell_type": "code",
   "execution_count": null,
   "metadata": {},
   "outputs": [],
   "source": [
    "def preprocess_data(x, y, n_classes):\n",
    "    x = (x - np.mean(x)) / np.std(x) \n",
    "    y_onehot = tf.keras.utils.to_categorical(y, num_classes=n_classes)\n",
    "    return x, y_onehot"
   ]
  },
  {
   "cell_type": "code",
   "execution_count": null,
   "metadata": {},
   "outputs": [],
   "source": [
    "n_classes = 6\n",
    "x_train, y_train_onehot = preprocess_data(x_train, y_train, n_classes)\n",
    "x_test, y_test_onehot = preprocess_data(x_test, y_test, n_classes)"
   ]
  },
  {
   "cell_type": "code",
   "execution_count": null,
   "metadata": {},
   "outputs": [
    {
     "name": "stdout",
     "output_type": "stream",
     "text": [
      "Training Data Count: 7352\n",
      "Test Data Count: 2947\n",
      "Steps per Series: 128\n",
      "Input Parameters per Timestep: 9\n"
     ]
    }
   ],
   "source": [
    "training_data_count = len(x_train)  \n",
    "test_data_count = len(x_test) \n",
    "n_steps = len(x_train[0]) \n",
    "n_input = len(x_train[0][0])\n",
    "\n",
    "print(f\"Training Data Count: {training_data_count}\")\n",
    "print(f\"Test Data Count: {test_data_count}\")\n",
    "print(f\"Steps per Series: {n_steps}\")\n",
    "print(f\"Input Parameters per Timestep: {n_input}\")"
   ]
  },
  {
   "cell_type": "code",
   "execution_count": null,
   "metadata": {},
   "outputs": [],
   "source": [
    "x_train_split, x_val_split, y_train_split, y_val_split = train_test_split(x_train, y_train_onehot, test_size=0.2, random_state=42)"
   ]
  },
  {
   "cell_type": "code",
   "execution_count": null,
   "metadata": {},
   "outputs": [],
   "source": [
    "checkpoint_dir = \"./checkpoints/\"\n",
    "os.makedirs(checkpoint_dir, exist_ok=True)\n",
    "checkpoint_path = os.path.join(checkpoint_dir, \"model_epoch_{epoch:02d}_val_acc_{val_accuracy:.2f}.h5\")\n",
    "\n",
    "best_params_path = os.path.join(checkpoint_dir, \"best_params.json\")"
   ]
  },
  {
   "cell_type": "code",
   "execution_count": null,
   "metadata": {},
   "outputs": [],
   "source": [
    "def objective(trial):\n",
    "    lstm_units = trial.suggest_int(\"lstm_units\", 32, 128)\n",
    "    dropout_rate = trial.suggest_float(\"dropout_rate\", 0.1, 0.5)\n",
    "    learning_rate = trial.suggest_float(\"learning_rate\", 1e-4, 1e-2, log=True)\n",
    "    batch_size = trial.suggest_categorical(\"batch_size\", [16, 32, 64, 128])\n",
    "\n",
    "    model = Sequential([\n",
    "        LSTM(lstm_units, input_shape=(x_train_split.shape[1], x_train_split.shape[2]), return_sequences=True),\n",
    "        Dropout(dropout_rate),\n",
    "        LSTM(lstm_units),\n",
    "        Dropout(dropout_rate),\n",
    "        Dense(n_classes, activation='softmax')\n",
    "    ])\n",
    "    model.compile(\n",
    "        optimizer=tf.keras.optimizers.legacy.Adam(learning_rate=learning_rate),\n",
    "        loss='categorical_crossentropy',\n",
    "        metrics=['accuracy']\n",
    "    )\n",
    "\n",
    "    history = model.fit(\n",
    "        x_train_split, y_train_split,\n",
    "        epochs=5,\n",
    "        batch_size=batch_size,\n",
    "        validation_data=(x_val_split, y_val_split),\n",
    "        verbose=0\n",
    "    )\n",
    "    return max(history.history['val_accuracy'])"
   ]
  },
  {
   "cell_type": "code",
   "execution_count": null,
   "metadata": {},
   "outputs": [
    {
     "name": "stderr",
     "output_type": "stream",
     "text": [
      "[I 2024-11-24 15:42:48,100] A new study created in memory with name: LSTM_Optimization\n"
     ]
    },
    {
     "name": "stderr",
     "output_type": "stream",
     "text": [
      "2024-11-24 15:42:50.367300: I tensorflow/core/grappler/optimizers/custom_graph_optimizer_registry.cc:114] Plugin optimizer for device_type GPU is enabled.\n",
      "2024-11-24 15:42:50.775041: I tensorflow/core/grappler/optimizers/custom_graph_optimizer_registry.cc:114] Plugin optimizer for device_type GPU is enabled.\n",
      "2024-11-24 15:42:51.080551: I tensorflow/core/grappler/optimizers/custom_graph_optimizer_registry.cc:114] Plugin optimizer for device_type GPU is enabled.\n",
      "2024-11-24 15:42:51.449121: I tensorflow/core/grappler/optimizers/custom_graph_optimizer_registry.cc:114] Plugin optimizer for device_type GPU is enabled.\n",
      "2024-11-24 15:42:52.018319: I tensorflow/core/grappler/optimizers/custom_graph_optimizer_registry.cc:114] Plugin optimizer for device_type GPU is enabled.\n",
      "2024-11-24 15:42:59.869100: I tensorflow/core/grappler/optimizers/custom_graph_optimizer_registry.cc:114] Plugin optimizer for device_type GPU is enabled.\n",
      "2024-11-24 15:43:00.041290: I tensorflow/core/grappler/optimizers/custom_graph_optimizer_registry.cc:114] Plugin optimizer for device_type GPU is enabled.\n",
      "2024-11-24 15:43:00.187218: I tensorflow/core/grappler/optimizers/custom_graph_optimizer_registry.cc:114] Plugin optimizer for device_type GPU is enabled.\n",
      "[I 2024-11-24 15:43:33,412] Trial 0 finished with value: 0.9496940970420837 and parameters: {'lstm_units': 60, 'dropout_rate': 0.10333989932321641, 'learning_rate': 0.004039538775491987, 'batch_size': 32}. Best is trial 0 with value: 0.9496940970420837.\n",
      "2024-11-24 15:43:35.127683: I tensorflow/core/grappler/optimizers/custom_graph_optimizer_registry.cc:114] Plugin optimizer for device_type GPU is enabled.\n",
      "2024-11-24 15:43:35.487359: I tensorflow/core/grappler/optimizers/custom_graph_optimizer_registry.cc:114] Plugin optimizer for device_type GPU is enabled.\n",
      "2024-11-24 15:43:35.675047: I tensorflow/core/grappler/optimizers/custom_graph_optimizer_registry.cc:114] Plugin optimizer for device_type GPU is enabled.\n",
      "2024-11-24 15:43:36.012796: I tensorflow/core/grappler/optimizers/custom_graph_optimizer_registry.cc:114] Plugin optimizer for device_type GPU is enabled.\n",
      "2024-11-24 15:43:36.483273: I tensorflow/core/grappler/optimizers/custom_graph_optimizer_registry.cc:114] Plugin optimizer for device_type GPU is enabled.\n",
      "2024-11-24 15:43:44.894374: I tensorflow/core/grappler/optimizers/custom_graph_optimizer_registry.cc:114] Plugin optimizer for device_type GPU is enabled.\n",
      "2024-11-24 15:43:45.016328: I tensorflow/core/grappler/optimizers/custom_graph_optimizer_registry.cc:114] Plugin optimizer for device_type GPU is enabled.\n",
      "2024-11-24 15:43:45.149391: I tensorflow/core/grappler/optimizers/custom_graph_optimizer_registry.cc:114] Plugin optimizer for device_type GPU is enabled.\n",
      "[I 2024-11-24 15:44:21,782] Trial 1 finished with value: 0.910944938659668 and parameters: {'lstm_units': 107, 'dropout_rate': 0.4714326469417558, 'learning_rate': 0.00013692280211634, 'batch_size': 32}. Best is trial 0 with value: 0.9496940970420837.\n",
      "2024-11-24 15:44:23.263726: I tensorflow/core/grappler/optimizers/custom_graph_optimizer_registry.cc:114] Plugin optimizer for device_type GPU is enabled.\n",
      "2024-11-24 15:44:23.611727: I tensorflow/core/grappler/optimizers/custom_graph_optimizer_registry.cc:114] Plugin optimizer for device_type GPU is enabled.\n",
      "2024-11-24 15:44:23.791130: I tensorflow/core/grappler/optimizers/custom_graph_optimizer_registry.cc:114] Plugin optimizer for device_type GPU is enabled.\n",
      "2024-11-24 15:44:24.105198: I tensorflow/core/grappler/optimizers/custom_graph_optimizer_registry.cc:114] Plugin optimizer for device_type GPU is enabled.\n",
      "2024-11-24 15:44:24.393546: I tensorflow/core/grappler/optimizers/custom_graph_optimizer_registry.cc:114] Plugin optimizer for device_type GPU is enabled.\n",
      "2024-11-24 15:44:33.486552: I tensorflow/core/grappler/optimizers/custom_graph_optimizer_registry.cc:114] Plugin optimizer for device_type GPU is enabled.\n",
      "2024-11-24 15:44:33.611125: I tensorflow/core/grappler/optimizers/custom_graph_optimizer_registry.cc:114] Plugin optimizer for device_type GPU is enabled.\n",
      "2024-11-24 15:44:33.741972: I tensorflow/core/grappler/optimizers/custom_graph_optimizer_registry.cc:114] Plugin optimizer for device_type GPU is enabled.\n",
      "[I 2024-11-24 15:45:08,457] Trial 2 finished with value: 0.9544527530670166 and parameters: {'lstm_units': 70, 'dropout_rate': 0.31765172277419257, 'learning_rate': 0.0013682225962894552, 'batch_size': 32}. Best is trial 2 with value: 0.9544527530670166.\n",
      "2024-11-24 15:45:09.879690: I tensorflow/core/grappler/optimizers/custom_graph_optimizer_registry.cc:114] Plugin optimizer for device_type GPU is enabled.\n",
      "2024-11-24 15:45:10.206292: I tensorflow/core/grappler/optimizers/custom_graph_optimizer_registry.cc:114] Plugin optimizer for device_type GPU is enabled.\n",
      "2024-11-24 15:45:10.375033: I tensorflow/core/grappler/optimizers/custom_graph_optimizer_registry.cc:114] Plugin optimizer for device_type GPU is enabled.\n",
      "2024-11-24 15:45:10.684982: I tensorflow/core/grappler/optimizers/custom_graph_optimizer_registry.cc:114] Plugin optimizer for device_type GPU is enabled.\n",
      "2024-11-24 15:45:10.986381: I tensorflow/core/grappler/optimizers/custom_graph_optimizer_registry.cc:114] Plugin optimizer for device_type GPU is enabled.\n",
      "2024-11-24 15:45:15.254497: I tensorflow/core/grappler/optimizers/custom_graph_optimizer_registry.cc:114] Plugin optimizer for device_type GPU is enabled.\n",
      "2024-11-24 15:45:15.373526: I tensorflow/core/grappler/optimizers/custom_graph_optimizer_registry.cc:114] Plugin optimizer for device_type GPU is enabled.\n",
      "2024-11-24 15:45:15.509791: I tensorflow/core/grappler/optimizers/custom_graph_optimizer_registry.cc:114] Plugin optimizer for device_type GPU is enabled.\n",
      "[I 2024-11-24 15:45:31,923] Trial 3 finished with value: 0.9374575018882751 and parameters: {'lstm_units': 38, 'dropout_rate': 0.4561684925492613, 'learning_rate': 0.004149782639957827, 'batch_size': 64}. Best is trial 2 with value: 0.9544527530670166.\n",
      "2024-11-24 15:45:34.341938: I tensorflow/core/grappler/optimizers/custom_graph_optimizer_registry.cc:114] Plugin optimizer for device_type GPU is enabled.\n",
      "2024-11-24 15:45:34.669093: I tensorflow/core/grappler/optimizers/custom_graph_optimizer_registry.cc:114] Plugin optimizer for device_type GPU is enabled.\n",
      "2024-11-24 15:45:34.842484: I tensorflow/core/grappler/optimizers/custom_graph_optimizer_registry.cc:114] Plugin optimizer for device_type GPU is enabled.\n",
      "2024-11-24 15:45:35.179396: I tensorflow/core/grappler/optimizers/custom_graph_optimizer_registry.cc:114] Plugin optimizer for device_type GPU is enabled.\n",
      "2024-11-24 15:45:35.473060: I tensorflow/core/grappler/optimizers/custom_graph_optimizer_registry.cc:114] Plugin optimizer for device_type GPU is enabled.\n",
      "2024-11-24 15:45:38.356509: I tensorflow/core/grappler/optimizers/custom_graph_optimizer_registry.cc:114] Plugin optimizer for device_type GPU is enabled.\n",
      "2024-11-24 15:45:38.476708: I tensorflow/core/grappler/optimizers/custom_graph_optimizer_registry.cc:114] Plugin optimizer for device_type GPU is enabled.\n",
      "2024-11-24 15:45:38.610721: I tensorflow/core/grappler/optimizers/custom_graph_optimizer_registry.cc:114] Plugin optimizer for device_type GPU is enabled.\n",
      "[I 2024-11-24 15:45:52,900] Trial 4 finished with value: 0.8762746453285217 and parameters: {'lstm_units': 88, 'dropout_rate': 0.15624168913696918, 'learning_rate': 0.00028340685401038855, 'batch_size': 128}. Best is trial 2 with value: 0.9544527530670166.\n"
     ]
    }
   ],
   "source": [
    "study = optuna.create_study(direction=\"maximize\", study_name=\"LSTM_Optimization\")\n",
    "study.optimize(objective, n_trials=10)"
   ]
  },
  {
   "cell_type": "code",
   "execution_count": null,
   "metadata": {},
   "outputs": [
    {
     "name": "stdout",
     "output_type": "stream",
     "text": [
      "Best parameters saved to ./checkpoints/best_params.json\n"
     ]
    }
   ],
   "source": [
    "best_params = study.best_params\n",
    "with open(best_params_path, \"w\") as f:\n",
    "    json.dump(best_params, f)\n",
    "print(f\"Best parameters saved to {best_params_path}\")"
   ]
  },
  {
   "cell_type": "code",
   "execution_count": null,
   "metadata": {},
   "outputs": [
    {
     "name": "stdout",
     "output_type": "stream",
     "text": [
      "Loaded best parameters: {'lstm_units': 70, 'dropout_rate': 0.31765172277419257, 'learning_rate': 0.0013682225962894552, 'batch_size': 32}\n"
     ]
    }
   ],
   "source": [
    "with open(best_params_path, \"r\") as f:\n",
    "    best_params = json.load(f)\n",
    "print(\"Loaded best parameters:\", best_params)"
   ]
  },
  {
   "cell_type": "code",
   "execution_count": null,
   "metadata": {},
   "outputs": [],
   "source": [
    "model = Sequential([\n",
    "    LSTM(best_params['lstm_units'], input_shape=(x_train.shape[1], x_train.shape[2]), return_sequences=True),\n",
    "    Dropout(best_params['dropout_rate']),\n",
    "    LSTM(best_params['lstm_units']),\n",
    "    Dropout(best_params['dropout_rate']),\n",
    "    Dense(n_classes, activation='softmax')\n",
    "])\n",
    "model.compile(\n",
    "    optimizer=tf.keras.optimizers.legacy.Adam(learning_rate=best_params['learning_rate']),\n",
    "    loss='categorical_crossentropy',\n",
    "    metrics=['accuracy']\n",
    ")"
   ]
  },
  {
   "cell_type": "code",
   "execution_count": null,
   "metadata": {},
   "outputs": [],
   "source": [
    "initial_epoch = 0\n",
    "if os.path.exists(checkpoint_path):\n",
    "    use_checkpoint = input(\"Checkpoint detected. Resume training? (yes/no): \").strip().lower() == \"yes\"\n",
    "    if use_checkpoint:\n",
    "        model.load_weights(checkpoint_path)\n",
    "        print(\"Resumed from checkpoint.\")\n",
    "\n",
    "callbacks = [\n",
    "    ModelCheckpoint(filepath=checkpoint_path, save_best_only=True, monitor='val_accuracy', mode='max', verbose=1),\n",
    "    EarlyStopping(monitor='val_loss', patience=10, verbose=1)\n",
    "]"
   ]
  },
  {
   "cell_type": "code",
   "execution_count": null,
   "metadata": {},
   "outputs": [
    {
     "name": "stdout",
     "output_type": "stream",
     "text": [
      "Epoch 1/50\n"
     ]
    },
    {
     "name": "stderr",
     "output_type": "stream",
     "text": [
      "2024-11-24 15:45:54.684266: I tensorflow/core/grappler/optimizers/custom_graph_optimizer_registry.cc:114] Plugin optimizer for device_type GPU is enabled.\n",
      "2024-11-24 15:45:55.011538: I tensorflow/core/grappler/optimizers/custom_graph_optimizer_registry.cc:114] Plugin optimizer for device_type GPU is enabled.\n",
      "2024-11-24 15:45:55.194223: I tensorflow/core/grappler/optimizers/custom_graph_optimizer_registry.cc:114] Plugin optimizer for device_type GPU is enabled.\n",
      "2024-11-24 15:45:55.488266: I tensorflow/core/grappler/optimizers/custom_graph_optimizer_registry.cc:114] Plugin optimizer for device_type GPU is enabled.\n",
      "2024-11-24 15:45:55.798277: I tensorflow/core/grappler/optimizers/custom_graph_optimizer_registry.cc:114] Plugin optimizer for device_type GPU is enabled.\n"
     ]
    },
    {
     "name": "stdout",
     "output_type": "stream",
     "text": [
      "184/184 [==============================] - ETA: 0s - loss: 0.7521 - accuracy: 0.6910"
     ]
    },
    {
     "name": "stderr",
     "output_type": "stream",
     "text": [
      "2024-11-24 15:46:04.492843: I tensorflow/core/grappler/optimizers/custom_graph_optimizer_registry.cc:114] Plugin optimizer for device_type GPU is enabled.\n",
      "2024-11-24 15:46:04.611350: I tensorflow/core/grappler/optimizers/custom_graph_optimizer_registry.cc:114] Plugin optimizer for device_type GPU is enabled.\n",
      "2024-11-24 15:46:04.758614: I tensorflow/core/grappler/optimizers/custom_graph_optimizer_registry.cc:114] Plugin optimizer for device_type GPU is enabled.\n"
     ]
    },
    {
     "name": "stdout",
     "output_type": "stream",
     "text": [
      "\n",
      "Epoch 1: val_accuracy improved from -inf to 0.83821, saving model to ./checkpoints/model_epoch_01_val_acc_0.84.h5\n",
      "184/184 [==============================] - 12s 54ms/step - loss: 0.7521 - accuracy: 0.6910 - val_loss: 0.5222 - val_accuracy: 0.8382\n",
      "Epoch 2/50\n",
      "184/184 [==============================] - ETA: 0s - loss: 0.3916 - accuracy: 0.8616\n",
      "Epoch 2: val_accuracy improved from 0.83821 to 0.91434, saving model to ./checkpoints/model_epoch_02_val_acc_0.91.h5\n",
      "184/184 [==============================] - 9s 48ms/step - loss: 0.3916 - accuracy: 0.8616 - val_loss: 0.2043 - val_accuracy: 0.9143\n",
      "Epoch 3/50\n",
      "183/184 [============================>.] - ETA: 0s - loss: 0.2443 - accuracy: 0.9148\n",
      "Epoch 3: val_accuracy improved from 0.91434 to 0.94222, saving model to ./checkpoints/model_epoch_03_val_acc_0.94.h5\n",
      "184/184 [==============================] - 9s 47ms/step - loss: 0.2438 - accuracy: 0.9150 - val_loss: 0.1725 - val_accuracy: 0.9422\n",
      "Epoch 4/50\n",
      "183/184 [============================>.] - ETA: 0s - loss: 0.1767 - accuracy: 0.9361\n",
      "Epoch 4: val_accuracy improved from 0.94222 to 0.95445, saving model to ./checkpoints/model_epoch_04_val_acc_0.95.h5\n",
      "184/184 [==============================] - 9s 47ms/step - loss: 0.1764 - accuracy: 0.9362 - val_loss: 0.1263 - val_accuracy: 0.9545\n",
      "Epoch 5/50\n",
      "183/184 [============================>.] - ETA: 0s - loss: 0.1506 - accuracy: 0.9425\n",
      "Epoch 5: val_accuracy did not improve from 0.95445\n",
      "184/184 [==============================] - 9s 47ms/step - loss: 0.1502 - accuracy: 0.9427 - val_loss: 0.1448 - val_accuracy: 0.9388\n",
      "Epoch 6/50\n",
      "183/184 [============================>.] - ETA: 0s - loss: 0.1512 - accuracy: 0.9433\n",
      "Epoch 6: val_accuracy did not improve from 0.95445\n",
      "184/184 [==============================] - 9s 47ms/step - loss: 0.1512 - accuracy: 0.9430 - val_loss: 0.2171 - val_accuracy: 0.8851\n",
      "Epoch 7/50\n",
      "183/184 [============================>.] - ETA: 0s - loss: 0.2854 - accuracy: 0.8963\n",
      "Epoch 7: val_accuracy did not improve from 0.95445\n",
      "184/184 [==============================] - 9s 48ms/step - loss: 0.2848 - accuracy: 0.8966 - val_loss: 0.1445 - val_accuracy: 0.9504\n",
      "Epoch 8/50\n",
      "184/184 [==============================] - ETA: 0s - loss: 0.1809 - accuracy: 0.9305\n",
      "Epoch 8: val_accuracy did not improve from 0.95445\n",
      "184/184 [==============================] - 9s 48ms/step - loss: 0.1809 - accuracy: 0.9305 - val_loss: 0.1488 - val_accuracy: 0.9511\n",
      "Epoch 9/50\n",
      "184/184 [==============================] - ETA: 0s - loss: 0.1546 - accuracy: 0.9391\n",
      "Epoch 9: val_accuracy did not improve from 0.95445\n",
      "184/184 [==============================] - 10s 55ms/step - loss: 0.1546 - accuracy: 0.9391 - val_loss: 0.2513 - val_accuracy: 0.9130\n",
      "Epoch 10/50\n",
      "184/184 [==============================] - ETA: 0s - loss: 0.1339 - accuracy: 0.9481\n",
      "Epoch 10: val_accuracy did not improve from 0.95445\n",
      "184/184 [==============================] - 9s 51ms/step - loss: 0.1339 - accuracy: 0.9481 - val_loss: 0.1400 - val_accuracy: 0.9490\n",
      "Epoch 11/50\n",
      "183/184 [============================>.] - ETA: 0s - loss: 0.1462 - accuracy: 0.9426\n",
      "Epoch 11: val_accuracy improved from 0.95445 to 0.95785, saving model to ./checkpoints/model_epoch_11_val_acc_0.96.h5\n",
      "184/184 [==============================] - 9s 49ms/step - loss: 0.1465 - accuracy: 0.9422 - val_loss: 0.1170 - val_accuracy: 0.9579\n",
      "Epoch 12/50\n",
      "184/184 [==============================] - ETA: 0s - loss: 0.1423 - accuracy: 0.9464\n",
      "Epoch 12: val_accuracy did not improve from 0.95785\n",
      "184/184 [==============================] - 9s 49ms/step - loss: 0.1423 - accuracy: 0.9464 - val_loss: 0.3454 - val_accuracy: 0.9103\n",
      "Epoch 13/50\n",
      "183/184 [============================>.] - ETA: 0s - loss: 0.1336 - accuracy: 0.9474\n",
      "Epoch 13: val_accuracy did not improve from 0.95785\n",
      "184/184 [==============================] - 9s 49ms/step - loss: 0.1340 - accuracy: 0.9471 - val_loss: 0.1396 - val_accuracy: 0.9388\n",
      "Epoch 14/50\n",
      "184/184 [==============================] - ETA: 0s - loss: 0.1175 - accuracy: 0.9524\n",
      "Epoch 14: val_accuracy did not improve from 0.95785\n",
      "184/184 [==============================] - 10s 52ms/step - loss: 0.1175 - accuracy: 0.9524 - val_loss: 0.1209 - val_accuracy: 0.9504\n",
      "Epoch 15/50\n",
      "183/184 [============================>.] - ETA: 0s - loss: 0.1185 - accuracy: 0.9501\n",
      "Epoch 15: val_accuracy did not improve from 0.95785\n",
      "184/184 [==============================] - 9s 52ms/step - loss: 0.1187 - accuracy: 0.9500 - val_loss: 0.1538 - val_accuracy: 0.9504\n",
      "Epoch 16/50\n",
      "184/184 [==============================] - ETA: 0s - loss: 0.1106 - accuracy: 0.9524\n",
      "Epoch 16: val_accuracy did not improve from 0.95785\n",
      "184/184 [==============================] - 9s 47ms/step - loss: 0.1106 - accuracy: 0.9524 - val_loss: 0.1111 - val_accuracy: 0.9579\n",
      "Epoch 17/50\n",
      "183/184 [============================>.] - ETA: 0s - loss: 0.1148 - accuracy: 0.9496\n",
      "Epoch 17: val_accuracy did not improve from 0.95785\n",
      "184/184 [==============================] - 9s 48ms/step - loss: 0.1158 - accuracy: 0.9495 - val_loss: 0.2680 - val_accuracy: 0.9150\n",
      "Epoch 18/50\n",
      "183/184 [============================>.] - ETA: 0s - loss: 0.1595 - accuracy: 0.9365\n",
      "Epoch 18: val_accuracy did not improve from 0.95785\n",
      "184/184 [==============================] - 8s 46ms/step - loss: 0.1593 - accuracy: 0.9366 - val_loss: 0.2093 - val_accuracy: 0.9150\n",
      "Epoch 19/50\n",
      "184/184 [==============================] - ETA: 0s - loss: 0.1402 - accuracy: 0.9461\n",
      "Epoch 19: val_accuracy improved from 0.95785 to 0.95989, saving model to ./checkpoints/model_epoch_19_val_acc_0.96.h5\n",
      "184/184 [==============================] - 9s 47ms/step - loss: 0.1402 - accuracy: 0.9461 - val_loss: 0.1102 - val_accuracy: 0.9599\n",
      "Epoch 20/50\n",
      "183/184 [============================>.] - ETA: 0s - loss: 0.1101 - accuracy: 0.9542\n",
      "Epoch 20: val_accuracy did not improve from 0.95989\n",
      "184/184 [==============================] - 9s 48ms/step - loss: 0.1099 - accuracy: 0.9544 - val_loss: 0.1085 - val_accuracy: 0.9470\n",
      "Epoch 21/50\n",
      "184/184 [==============================] - ETA: 0s - loss: 0.1120 - accuracy: 0.9515\n",
      "Epoch 21: val_accuracy did not improve from 0.95989\n",
      "184/184 [==============================] - 9s 47ms/step - loss: 0.1120 - accuracy: 0.9515 - val_loss: 0.1073 - val_accuracy: 0.9585\n",
      "Epoch 22/50\n",
      "183/184 [============================>.] - ETA: 0s - loss: 0.1095 - accuracy: 0.9541\n",
      "Epoch 22: val_accuracy did not improve from 0.95989\n",
      "184/184 [==============================] - 9s 47ms/step - loss: 0.1093 - accuracy: 0.9543 - val_loss: 0.1096 - val_accuracy: 0.9572\n",
      "Epoch 23/50\n",
      "184/184 [==============================] - ETA: 0s - loss: 0.1127 - accuracy: 0.9544\n",
      "Epoch 23: val_accuracy did not improve from 0.95989\n",
      "184/184 [==============================] - 9s 47ms/step - loss: 0.1127 - accuracy: 0.9544 - val_loss: 0.1028 - val_accuracy: 0.9585\n",
      "Epoch 24/50\n",
      "184/184 [==============================] - ETA: 0s - loss: 0.1066 - accuracy: 0.9534\n",
      "Epoch 24: val_accuracy did not improve from 0.95989\n",
      "184/184 [==============================] - 9s 47ms/step - loss: 0.1066 - accuracy: 0.9534 - val_loss: 0.1041 - val_accuracy: 0.9585\n",
      "Epoch 25/50\n",
      "184/184 [==============================] - ETA: 0s - loss: 0.1357 - accuracy: 0.9378\n",
      "Epoch 25: val_accuracy did not improve from 0.95989\n",
      "184/184 [==============================] - 9s 48ms/step - loss: 0.1357 - accuracy: 0.9378 - val_loss: 0.1271 - val_accuracy: 0.9429\n",
      "Epoch 26/50\n",
      "183/184 [============================>.] - ETA: 0s - loss: 0.1147 - accuracy: 0.9508\n",
      "Epoch 26: val_accuracy did not improve from 0.95989\n",
      "184/184 [==============================] - 9s 47ms/step - loss: 0.1145 - accuracy: 0.9509 - val_loss: 0.1058 - val_accuracy: 0.9585\n",
      "Epoch 27/50\n",
      "183/184 [============================>.] - ETA: 0s - loss: 0.1117 - accuracy: 0.9524\n",
      "Epoch 27: val_accuracy did not improve from 0.95989\n",
      "184/184 [==============================] - 9s 47ms/step - loss: 0.1118 - accuracy: 0.9522 - val_loss: 0.1035 - val_accuracy: 0.9579\n",
      "Epoch 28/50\n",
      "184/184 [==============================] - ETA: 0s - loss: 0.1107 - accuracy: 0.9510\n",
      "Epoch 28: val_accuracy did not improve from 0.95989\n",
      "184/184 [==============================] - 9s 47ms/step - loss: 0.1107 - accuracy: 0.9510 - val_loss: 0.1027 - val_accuracy: 0.9538\n",
      "Epoch 29/50\n",
      "183/184 [============================>.] - ETA: 0s - loss: 0.1036 - accuracy: 0.9566\n",
      "Epoch 29: val_accuracy did not improve from 0.95989\n",
      "184/184 [==============================] - 9s 46ms/step - loss: 0.1034 - accuracy: 0.9566 - val_loss: 0.1192 - val_accuracy: 0.9572\n",
      "Epoch 30/50\n",
      "184/184 [==============================] - ETA: 0s - loss: 0.1048 - accuracy: 0.9553\n",
      "Epoch 30: val_accuracy did not improve from 0.95989\n",
      "184/184 [==============================] - 9s 46ms/step - loss: 0.1048 - accuracy: 0.9553 - val_loss: 0.1204 - val_accuracy: 0.9579\n",
      "Epoch 31/50\n",
      "183/184 [============================>.] - ETA: 0s - loss: 0.1037 - accuracy: 0.9573\n",
      "Epoch 31: val_accuracy did not improve from 0.95989\n",
      "184/184 [==============================] - 8s 46ms/step - loss: 0.1036 - accuracy: 0.9573 - val_loss: 0.1197 - val_accuracy: 0.9524\n",
      "Epoch 32/50\n",
      "184/184 [==============================] - ETA: 0s - loss: 0.1057 - accuracy: 0.9505\n",
      "Epoch 32: val_accuracy did not improve from 0.95989\n",
      "184/184 [==============================] - 9s 48ms/step - loss: 0.1057 - accuracy: 0.9505 - val_loss: 0.1128 - val_accuracy: 0.9579\n",
      "Epoch 33/50\n",
      "184/184 [==============================] - ETA: 0s - loss: 0.1014 - accuracy: 0.9553\n",
      "Epoch 33: val_accuracy did not improve from 0.95989\n",
      "184/184 [==============================] - 9s 50ms/step - loss: 0.1014 - accuracy: 0.9553 - val_loss: 0.1153 - val_accuracy: 0.9490\n",
      "Epoch 34/50\n",
      "184/184 [==============================] - ETA: 0s - loss: 0.1036 - accuracy: 0.9537\n",
      "Epoch 34: val_accuracy did not improve from 0.95989\n",
      "184/184 [==============================] - 9s 48ms/step - loss: 0.1036 - accuracy: 0.9537 - val_loss: 0.1236 - val_accuracy: 0.9551\n",
      "Epoch 35/50\n",
      "183/184 [============================>.] - ETA: 0s - loss: 0.1144 - accuracy: 0.9527\n",
      "Epoch 35: val_accuracy did not improve from 0.95989\n",
      "184/184 [==============================] - 9s 47ms/step - loss: 0.1147 - accuracy: 0.9526 - val_loss: 0.1583 - val_accuracy: 0.9375\n",
      "Epoch 36/50\n",
      "183/184 [============================>.] - ETA: 0s - loss: 0.1660 - accuracy: 0.9466\n",
      "Epoch 36: val_accuracy did not improve from 0.95989\n",
      "184/184 [==============================] - 9s 48ms/step - loss: 0.1657 - accuracy: 0.9466 - val_loss: 0.1082 - val_accuracy: 0.9572\n",
      "Epoch 37/50\n",
      "183/184 [============================>.] - ETA: 0s - loss: 0.1415 - accuracy: 0.9483\n",
      "Epoch 37: val_accuracy did not improve from 0.95989\n",
      "184/184 [==============================] - 9s 48ms/step - loss: 0.1414 - accuracy: 0.9481 - val_loss: 0.1419 - val_accuracy: 0.9381\n",
      "Epoch 38/50\n",
      "183/184 [============================>.] - ETA: 0s - loss: 0.1451 - accuracy: 0.9455\n",
      "Epoch 38: val_accuracy did not improve from 0.95989\n",
      "184/184 [==============================] - 8s 46ms/step - loss: 0.1449 - accuracy: 0.9456 - val_loss: 0.1392 - val_accuracy: 0.9381\n",
      "Epoch 38: early stopping\n"
     ]
    }
   ],
   "source": [
    "history = model.fit(\n",
    "    x_train_split, y_train_split,\n",
    "    initial_epoch=initial_epoch,\n",
    "    epochs=50,\n",
    "    batch_size=best_params['batch_size'],\n",
    "    validation_data=(x_val_split, y_val_split),\n",
    "    callbacks=callbacks,\n",
    "    verbose=1\n",
    ")"
   ]
  },
  {
   "cell_type": "code",
   "execution_count": null,
   "metadata": {},
   "outputs": [
    {
     "data": {
      "image/png": "[encoded data removed]",
      "text/plain": [
       "<Figure size 640x480 with 1 Axes>"
      ]
     },
     "metadata": {},
     "output_type": "display_data"
    }
   ],
   "source": [
    "plt.plot(history.history['loss'], label='Training Loss')\n",
    "plt.plot(history.history['val_loss'], label='Validation Loss')\n",
    "plt.xlabel('Epochs')\n",
    "plt.ylabel('Loss')\n",
    "plt.title('Loss Curve')\n",
    "plt.legend()\n",
    "plt.show()"
   ]
  },
  {
   "cell_type": "code",
   "execution_count": null,
   "metadata": {},
   "outputs": [
    {
     "name": "stdout",
     "output_type": "stream",
     "text": [
      "93/93 [==============================] - 4s 38ms/step - loss: 0.2325 - accuracy: 0.9023\n",
      "Test Accuracy: 0.90\n"
     ]
    },
    {
     "name": "stderr",
     "output_type": "stream",
     "text": [
      "2024-11-24 15:51:36.508004: I tensorflow/core/grappler/optimizers/custom_graph_optimizer_registry.cc:114] Plugin optimizer for device_type GPU is enabled.\n",
      "2024-11-24 15:51:36.615232: I tensorflow/core/grappler/optimizers/custom_graph_optimizer_registry.cc:114] Plugin optimizer for device_type GPU is enabled.\n"
     ]
    },
    {
     "name": "stdout",
     "output_type": "stream",
     "text": [
      " 5/93 [>.............................] - ETA: 1s  "
     ]
    },
    {
     "name": "stderr",
     "output_type": "stream",
     "text": [
      "2024-11-24 15:51:36.746115: I tensorflow/core/grappler/optimizers/custom_graph_optimizer_registry.cc:114] Plugin optimizer for device_type GPU is enabled.\n"
     ]
    },
    {
     "name": "stdout",
     "output_type": "stream",
     "text": [
      "93/93 [==============================] - 2s 12ms/step\n"
     ]
    }
   ],
   "source": [
    "test_loss, test_accuracy = model.evaluate(x_test, y_test_onehot, verbose=1)\n",
    "print(f\"Test Accuracy: {test_accuracy:.2f}\")\n",
    "\n",
    "y_pred = np.argmax(model.predict(x_test), axis=1)\n",
    "y_true = np.argmax(y_test_onehot, axis=1)"
   ]
  },
  {
   "cell_type": "code",
   "execution_count": null,
   "metadata": {},
   "outputs": [
    {
     "name": "stdout",
     "output_type": "stream",
     "text": [
      "\n",
      "Classification Report:\n",
      "                    precision    recall  f1-score   support\n",
      "\n",
      "           WALKING       0.98      0.92      0.94       496\n",
      "  WALKING_UPSTAIRS       0.91      0.98      0.94       471\n",
      "WALKING_DOWNSTAIRS       0.99      1.00      0.99       420\n",
      "           SITTING       0.83      0.67      0.74       491\n",
      "          STANDING       0.75      0.86      0.80       532\n",
      "            LAYING       1.00      1.00      1.00       537\n",
      "\n",
      "          accuracy                           0.90      2947\n",
      "         macro avg       0.91      0.90      0.90      2947\n",
      "      weighted avg       0.90      0.90      0.90      2947\n",
      "\n",
      "\n",
      "Confusion Matrix:\n"
     ]
    },
    {
     "data": {
      "image/png": "[encoded data removed]",
      "text/plain": [
       "<Figure size 1000x800 with 2 Axes>"
      ]
     },
     "metadata": {},
     "output_type": "display_data"
    }
   ],
   "source": [
    "print(\"\\nClassification Report:\")\n",
    "print(classification_report(y_true, y_pred, target_names=labels))\n",
    "\n",
    "print(\"\\nConfusion Matrix:\")\n",
    "conf_matrix = confusion_matrix(y_true, y_pred)\n",
    "plt.figure(figsize=(10, 8))\n",
    "plt.imshow(conf_matrix, interpolation='nearest', cmap=plt.cm.Blues)\n",
    "plt.colorbar()\n",
    "tick_marks = np.arange(n_classes)\n",
    "plt.xticks(tick_marks, labels, rotation=45)\n",
    "plt.yticks(tick_marks, labels)\n",
    "plt.tight_layout()\n",
    "plt.ylabel('True label')\n",
    "plt.xlabel('Predicted label')\n",
    "plt.show()"
   ]
  }
 ],
 "metadata": {
  "hide_input": false,
  "kernelspec": {
   "display_name": "myenv3.8",
   "language": "python",
   "name": "python3"
  },
  "language_info": {
   "codemirror_mode": {
    "name": "ipython",
    "version": 3
   },
   "file_extension": ".py",
   "mimetype": "text/x-python",
   "name": "python",
   "nbconvert_exporter": "python",
   "pygments_lexer": "ipython3",
   "version": "3.8.20"
  }
 },
 "nbformat": 4,
 "nbformat_minor": 2
}
