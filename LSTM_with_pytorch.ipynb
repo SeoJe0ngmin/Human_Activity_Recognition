{
 "cells": [
  {
   "cell_type": "markdown",
   "metadata": {},
   "source": [
    "# 0. Introduction"
   ]
  },
  {
   "cell_type": "markdown",
   "metadata": {},
   "source": [
    "앞서서 Logistic Regression / Linear SVC / RF 모델들을 사용해보았다.\n",
    "\n",
    "차원 축소 기법으로 PCA보다는 LDA 기법을 쓰는게 더 효과적이였다.\n",
    "\n",
    "대체로 성능에 큰 차이는 없었지만, raw data가 워낙 정제가 잘 되어있고, 깔끔해서인지 아무것도 하지 않았을 때 Accuracy가 0.966407로 가장 좋았다."
   ]
  },
  {
   "cell_type": "markdown",
   "metadata": {},
   "source": [
    "한편으로 HAR 데이터에 관해서 조금 더 공부를 해보니 시계열로 접근하는 것이 더 좋은 방법일 수 있겠다는 생각이 들었다.\n",
    "\n",
    "HAR (Human Activity Recognition) 데이터셋은 시간에 따른 센서 데이터로 구성된 이유는 사람의 활동이 시간에 따라 변화하는 동적인 과정이기 때문이다. \n",
    "\n",
    "즉, 사람의 활동은 일종의 시퀀스(sequence)로 발생하는 연속적인 사건이기 때문에, 이를 정확히 예측하려면 시간의 흐름에 따른 정보를 고려해야 한다."
   ]
  },
  {
   "cell_type": "markdown",
   "metadata": {},
   "source": [
    "사람의 활동은 특정 시점에 ‘단 한 번’ 발생하는 것이 아니라, 시간에 따라 연속적으로 변화하는 동적인 과정이다. \n",
    "\n",
    "예를 들어, 걷기나 앉기와 같은 활동은 각 시점에서의 작은 변화들이 모여 하나의 활동을 이룬다. \n",
    "\n",
    "이러한 시간적 의존성을 반영하기 위해, 활동 예측 문제는 시계열 데이터로 접근하는 것이 중요하다고 한다. \n",
    "\n",
    "시계열 모델은 시간에 따른 변화 패턴을 학습하여, 과거의 정보가 현재와 미래에 어떤 영향을 미치는지를 파악할 수 있다. \n",
    "\n",
    "따라서 사람의 움직임을 정확히 예측하기 위해서는 연속적인 시간 스텝의 정보를 모두 고려하는 시계열 접근 방식이 필수적이라고 한다."
   ]
  },
  {
   "cell_type": "markdown",
   "metadata": {},
   "source": [
    "아래의 링크를 참고하여 코드를 작성하였습니다.\n",
    "\n",
    "https://github.com/guillaume-chevalier/LSTM-Human-Activity-Recognition/blob/master/LSTM.ipynb"
   ]
  },
  {
   "cell_type": "markdown",
   "metadata": {},
   "source": [
    "# 1. Environment and Setup"
   ]
  },
  {
   "cell_type": "code",
   "execution_count": 1,
   "metadata": {},
   "outputs": [
    {
     "name": "stderr",
     "output_type": "stream",
     "text": [
      "/opt/anaconda3/envs/myenv3.8/lib/python3.8/site-packages/tqdm/auto.py:21: TqdmWarning: IProgress not found. Please update jupyter and ipywidgets. See https://ipywidgets.readthedocs.io/en/stable/user_install.html\n",
      "  from .autonotebook import tqdm as notebook_tqdm\n"
     ]
    }
   ],
   "source": [
    "import os\n",
    "import json\n",
    "import numpy as np\n",
    "import matplotlib.pyplot as plt\n",
    "import torch\n",
    "import torch.nn as nn\n",
    "import torch.optim as optim\n",
    "from torch.utils.data import Dataset, DataLoader, TensorDataset\n",
    "from sklearn.metrics import classification_report, confusion_matrix\n",
    "from sklearn.model_selection import train_test_split\n",
    "import optuna\n",
    "import seaborn as sns"
   ]
  },
  {
   "cell_type": "markdown",
   "metadata": {},
   "source": [
    "## Device Configuration"
   ]
  },
  {
   "cell_type": "code",
   "execution_count": 2,
   "metadata": {},
   "outputs": [
    {
     "name": "stdout",
     "output_type": "stream",
     "text": [
      "Using device: mps\n"
     ]
    }
   ],
   "source": [
    "device = torch.device(\"mps\") if torch.backends.mps.is_available() else torch.device(\"cpu\")\n",
    "print(f\"Using device: {device}\")"
   ]
  },
  {
   "cell_type": "code",
   "execution_count": 3,
   "metadata": {},
   "outputs": [],
   "source": [
    "SEED = 42\n",
    "np.random.seed(SEED)\n",
    "torch.manual_seed(SEED)\n",
    "if torch.cuda.is_available():\n",
    "    torch.cuda.manual_seed(SEED)"
   ]
  },
  {
   "cell_type": "markdown",
   "metadata": {},
   "source": [
    "# 2. Data Preparation"
   ]
  },
  {
   "cell_type": "markdown",
   "metadata": {},
   "source": [
    "## Data loading functions"
   ]
  },
  {
   "cell_type": "code",
   "execution_count": 4,
   "metadata": {},
   "outputs": [],
   "source": [
    "def load_x(x_signals_paths):\n",
    "    x_signals = []\n",
    "    for signal_type_path in x_signals_paths:\n",
    "        with open(signal_type_path, 'r') as file:\n",
    "            x_signals.append(\n",
    "                np.array([np.array(row.strip().split(), dtype=np.float32) for row in file])\n",
    "            )\n",
    "    return np.transpose(np.array(x_signals), (1, 2, 0))\n",
    "\n",
    "def load_y(y_path):\n",
    "    with open(y_path, 'r') as file:\n",
    "        y_ = np.array([int(row.strip()) for row in file])\n",
    "    return y_ - 1"
   ]
  },
  {
   "cell_type": "markdown",
   "metadata": {},
   "source": [
    "## Dataset Path"
   ]
  },
  {
   "cell_type": "code",
   "execution_count": 5,
   "metadata": {},
   "outputs": [],
   "source": [
    "dataset_path = \"/Users/seojeongmin/Desktop/study/Human_Activity_Recognition/dataset/human+activity+recognition+using+smartphones/UCI HAR Dataset/\"\n",
    "train_path = \"train/\"\n",
    "test_path = \"test/\""
   ]
  },
  {
   "cell_type": "code",
   "execution_count": 6,
   "metadata": {},
   "outputs": [],
   "source": [
    "input_signal_types = [\n",
    "    \"body_acc_x_\", \"body_acc_y_\", \"body_acc_z_\",\n",
    "    \"body_gyro_x_\", \"body_gyro_y_\", \"body_gyro_z_\",\n",
    "    \"total_acc_x_\", \"total_acc_y_\", \"total_acc_z_\"\n",
    "]\n",
    "\n",
    "labels = [\"WALKING\", \"WALKING_UPSTAIRS\", \"WALKING_DOWNSTAIRS\", \"SITTING\", \"STANDING\", \"LAYING\"]\n"
   ]
  },
  {
   "cell_type": "markdown",
   "metadata": {},
   "source": [
    "## Loading datasets"
   ]
  },
  {
   "cell_type": "code",
   "execution_count": 7,
   "metadata": {},
   "outputs": [],
   "source": [
    "x_train_signals_paths = [dataset_path + train_path + \"Inertial Signals/\" + signal + \"train.txt\" for signal in input_signal_types]\n",
    "x_test_signals_paths = [dataset_path + test_path + \"Inertial Signals/\" + signal + \"test.txt\" for signal in input_signal_types]\n",
    "x_train = load_x(x_train_signals_paths)\n",
    "x_test = load_x(x_test_signals_paths)\n",
    "\n",
    "y_train_path = dataset_path + train_path + \"y_train.txt\"\n",
    "y_test_path = dataset_path + test_path + \"y_test.txt\"\n",
    "y_train = load_y(y_train_path)\n",
    "y_test = load_y(y_test_path)\n"
   ]
  },
  {
   "cell_type": "markdown",
   "metadata": {},
   "source": [
    "## Preprocessing data"
   ]
  },
  {
   "cell_type": "code",
   "execution_count": 8,
   "metadata": {},
   "outputs": [],
   "source": [
    "def preprocess_data(x, y):\n",
    "    x = torch.tensor(x, dtype=torch.float32)\n",
    "    y = torch.tensor(y, dtype=torch.long)\n",
    "    x = (x - x.mean()) / x.std()\n",
    "    return x, y\n",
    "\n",
    "n_classes = 6\n",
    "x_train, y_train = preprocess_data(x_train, y_train)\n",
    "x_test, y_test = preprocess_data(x_test, y_test)"
   ]
  },
  {
   "cell_type": "markdown",
   "metadata": {},
   "source": [
    "## Split into train/validation sets"
   ]
  },
  {
   "cell_type": "code",
   "execution_count": 9,
   "metadata": {},
   "outputs": [],
   "source": [
    "x_train_split, x_val_split, y_train_split, y_val_split = train_test_split(\n",
    "    x_train, y_train, test_size=0.2, random_state=SEED\n",
    ")"
   ]
  },
  {
   "cell_type": "code",
   "execution_count": 10,
   "metadata": {},
   "outputs": [
    {
     "name": "stderr",
     "output_type": "stream",
     "text": [
      "/var/folders/c9/nxk21wmd5bg9s7hvn7zq2rhw0000gn/T/ipykernel_31789/3504305607.py:1: UserWarning: To copy construct from a tensor, it is recommended to use sourceTensor.clone().detach() or sourceTensor.clone().detach().requires_grad_(True), rather than torch.tensor(sourceTensor).\n",
      "  x_train_split = torch.tensor(x_train_split, dtype=torch.float32)\n",
      "/var/folders/c9/nxk21wmd5bg9s7hvn7zq2rhw0000gn/T/ipykernel_31789/3504305607.py:2: UserWarning: To copy construct from a tensor, it is recommended to use sourceTensor.clone().detach() or sourceTensor.clone().detach().requires_grad_(True), rather than torch.tensor(sourceTensor).\n",
      "  y_train_split = torch.tensor(y_train_split, dtype=torch.long)\n",
      "/var/folders/c9/nxk21wmd5bg9s7hvn7zq2rhw0000gn/T/ipykernel_31789/3504305607.py:3: UserWarning: To copy construct from a tensor, it is recommended to use sourceTensor.clone().detach() or sourceTensor.clone().detach().requires_grad_(True), rather than torch.tensor(sourceTensor).\n",
      "  x_val_split = torch.tensor(x_val_split, dtype=torch.float32)\n",
      "/var/folders/c9/nxk21wmd5bg9s7hvn7zq2rhw0000gn/T/ipykernel_31789/3504305607.py:4: UserWarning: To copy construct from a tensor, it is recommended to use sourceTensor.clone().detach() or sourceTensor.clone().detach().requires_grad_(True), rather than torch.tensor(sourceTensor).\n",
      "  y_val_split = torch.tensor(y_val_split, dtype=torch.long)\n",
      "/var/folders/c9/nxk21wmd5bg9s7hvn7zq2rhw0000gn/T/ipykernel_31789/3504305607.py:5: UserWarning: To copy construct from a tensor, it is recommended to use sourceTensor.clone().detach() or sourceTensor.clone().detach().requires_grad_(True), rather than torch.tensor(sourceTensor).\n",
      "  x_test = torch.tensor(x_test, dtype=torch.float32)\n",
      "/var/folders/c9/nxk21wmd5bg9s7hvn7zq2rhw0000gn/T/ipykernel_31789/3504305607.py:6: UserWarning: To copy construct from a tensor, it is recommended to use sourceTensor.clone().detach() or sourceTensor.clone().detach().requires_grad_(True), rather than torch.tensor(sourceTensor).\n",
      "  y_test = torch.tensor(y_test, dtype=torch.long)\n"
     ]
    }
   ],
   "source": [
    "x_train_split = torch.tensor(x_train_split, dtype=torch.float32)\n",
    "y_train_split = torch.tensor(y_train_split, dtype=torch.long)\n",
    "x_val_split = torch.tensor(x_val_split, dtype=torch.float32)\n",
    "y_val_split = torch.tensor(y_val_split, dtype=torch.long)\n",
    "x_test = torch.tensor(x_test, dtype=torch.float32)\n",
    "y_test = torch.tensor(y_test, dtype=torch.long)"
   ]
  },
  {
   "cell_type": "code",
   "execution_count": 11,
   "metadata": {},
   "outputs": [],
   "source": [
    "train_dataset = TensorDataset(x_train_split, y_train_split)\n",
    "val_dataset = TensorDataset(x_val_split, y_val_split)\n",
    "test_dataset = TensorDataset(x_test, y_test)"
   ]
  },
  {
   "cell_type": "markdown",
   "metadata": {},
   "source": [
    "# 3. Model and Hyperparameter Tuning"
   ]
  },
  {
   "cell_type": "markdown",
   "metadata": {},
   "source": [
    "## 3.1 LSTM Model Definition"
   ]
  },
  {
   "cell_type": "code",
   "execution_count": 12,
   "metadata": {},
   "outputs": [],
   "source": [
    "class HARModel(nn.Module):\n",
    "    def __init__(self, input_size, hidden_size, output_size, dropout_rate):\n",
    "        super(HARModel, self).__init__()\n",
    "        self.lstm = nn.LSTM(input_size, hidden_size, batch_first=True, num_layers=2, dropout=dropout_rate)\n",
    "        self.fc = nn.Linear(hidden_size, output_size)\n",
    "\n",
    "    def forward(self, x):\n",
    "        _, (hn, _) = self.lstm(x)\n",
    "        out = self.fc(hn[-1])\n",
    "        return out"
   ]
  },
  {
   "cell_type": "markdown",
   "metadata": {},
   "source": [
    "## Hyperparameter tuning with Optuna"
   ]
  },
  {
   "cell_type": "code",
   "execution_count": 13,
   "metadata": {},
   "outputs": [],
   "source": [
    "def objective(trial):\n",
    "    hidden_size = trial.suggest_int(\"hidden_size\", 32, 128)\n",
    "    dropout_rate = trial.suggest_float(\"dropout_rate\", 0.1, 0.5)\n",
    "    learning_rate = trial.suggest_float(\"learning_rate\", 1e-4, 1e-2, log=True)\n",
    "    batch_size = trial.suggest_categorical(\"batch_size\", [32, 64, 128])\n",
    "\n",
    "    train_loader = DataLoader(train_dataset, batch_size=batch_size, shuffle=True)\n",
    "    val_loader = DataLoader(val_dataset, batch_size=batch_size, shuffle=False)\n",
    "\n",
    "    model = HARModel(x_train_split.shape[2], hidden_size, n_classes, dropout_rate).to(device)\n",
    "    criterion = nn.CrossEntropyLoss()\n",
    "    optimizer = optim.Adam(model.parameters(), lr=learning_rate)\n",
    "\n",
    "    for epoch in range(10):\n",
    "        model.train()\n",
    "        for x_batch, y_batch in train_loader:\n",
    "            x_batch = x_batch.to(device)\n",
    "            y_batch = y_batch.to(device)\n",
    "            optimizer.zero_grad()\n",
    "            outputs = model(x_batch)\n",
    "            loss = criterion(outputs, y_batch)\n",
    "            loss.backward()\n",
    "            optimizer.step()\n",
    "\n",
    "    val_loss = 0.0\n",
    "    model.eval()\n",
    "    with torch.no_grad():\n",
    "        for x_batch, y_batch in val_loader:\n",
    "            x_batch = x_batch.to(device)\n",
    "            y_batch = y_batch.to(device)\n",
    "            outputs = model(x_batch)\n",
    "            val_loss += criterion(outputs, y_batch).item()\n",
    "\n",
    "    return -val_loss"
   ]
  },
  {
   "cell_type": "code",
   "execution_count": 14,
   "metadata": {},
   "outputs": [
    {
     "name": "stderr",
     "output_type": "stream",
     "text": [
      "[I 2024-11-24 18:00:49,435] A new study created in memory with name: LSTM Optimization\n",
      "[I 2024-11-24 18:01:13,626] Trial 0 finished with value: -7.909982157871127 and parameters: {'hidden_size': 48, 'dropout_rate': 0.1950867695029834, 'learning_rate': 0.009571132355366493, 'batch_size': 32}. Best is trial 0 with value: -7.909982157871127.\n",
      "[I 2024-11-24 18:01:38,043] Trial 1 finished with value: -20.995987832546234 and parameters: {'hidden_size': 115, 'dropout_rate': 0.47724635848216, 'learning_rate': 0.0065366753010476075, 'batch_size': 64}. Best is trial 0 with value: -7.909982157871127.\n",
      "[I 2024-11-24 18:02:04,163] Trial 2 finished with value: -6.2632976695895195 and parameters: {'hidden_size': 68, 'dropout_rate': 0.31128310067890513, 'learning_rate': 0.006281574577314419, 'batch_size': 32}. Best is trial 2 with value: -6.2632976695895195.\n",
      "[I 2024-11-24 18:02:32,898] Trial 3 finished with value: -5.612614941783249 and parameters: {'hidden_size': 90, 'dropout_rate': 0.4758445105649436, 'learning_rate': 0.0026929442362636563, 'batch_size': 32}. Best is trial 3 with value: -5.612614941783249.\n",
      "[I 2024-11-24 18:02:42,511] Trial 4 finished with value: -3.3253709822893143 and parameters: {'hidden_size': 58, 'dropout_rate': 0.42590677495477897, 'learning_rate': 0.006965633113758502, 'batch_size': 128}. Best is trial 4 with value: -3.3253709822893143.\n",
      "[I 2024-11-24 18:02:58,071] Trial 5 finished with value: -1.908846691250801 and parameters: {'hidden_size': 83, 'dropout_rate': 0.22745897965922024, 'learning_rate': 0.0019390983373603066, 'batch_size': 128}. Best is trial 5 with value: -1.908846691250801.\n",
      "[I 2024-11-24 18:03:17,850] Trial 6 finished with value: -4.770970553159714 and parameters: {'hidden_size': 89, 'dropout_rate': 0.4018545285374592, 'learning_rate': 0.0004719255763416933, 'batch_size': 64}. Best is trial 5 with value: -1.908846691250801.\n",
      "[I 2024-11-24 18:03:38,563] Trial 7 finished with value: -3.4651266019791365 and parameters: {'hidden_size': 124, 'dropout_rate': 0.3065132758409887, 'learning_rate': 0.005853298799994936, 'batch_size': 64}. Best is trial 5 with value: -1.908846691250801.\n",
      "[I 2024-11-24 18:04:08,158] Trial 8 finished with value: -8.456505848094821 and parameters: {'hidden_size': 82, 'dropout_rate': 0.3744598995037409, 'learning_rate': 0.00812234076359503, 'batch_size': 32}. Best is trial 5 with value: -1.908846691250801.\n",
      "[I 2024-11-24 18:04:17,327] Trial 9 finished with value: -5.3910007774829865 and parameters: {'hidden_size': 52, 'dropout_rate': 0.29121931461823497, 'learning_rate': 0.0002935419000956159, 'batch_size': 128}. Best is trial 5 with value: -1.908846691250801.\n"
     ]
    }
   ],
   "source": [
    "study = optuna.create_study(direction=\"maximize\", study_name=\"LSTM Optimization\")\n",
    "study.optimize(objective, n_trials=10)"
   ]
  },
  {
   "cell_type": "markdown",
   "metadata": {},
   "source": [
    "## Best Params 저장 및 로드"
   ]
  },
  {
   "cell_type": "code",
   "execution_count": 15,
   "metadata": {},
   "outputs": [],
   "source": [
    "best_params = study.best_params"
   ]
  },
  {
   "cell_type": "markdown",
   "metadata": {},
   "source": [
    "## Define checkpoint directory and paths"
   ]
  },
  {
   "cell_type": "code",
   "execution_count": 16,
   "metadata": {},
   "outputs": [],
   "source": [
    "checkpoint_dir = \"./checkpoints/\"\n",
    "os.makedirs(checkpoint_dir, exist_ok=True)\n",
    "checkpoint_path = os.path.join(checkpoint_dir, \"model_checkpoint.pth\")\n",
    "best_params_path = os.path.join(checkpoint_dir, \"best_params.json\")"
   ]
  },
  {
   "cell_type": "code",
   "execution_count": 17,
   "metadata": {},
   "outputs": [],
   "source": [
    "with open(best_params_path, \"w\") as f:\n",
    "    json.dump(best_params, f)"
   ]
  },
  {
   "cell_type": "code",
   "execution_count": 18,
   "metadata": {},
   "outputs": [],
   "source": [
    "with open(best_params_path, \"r\") as f:\n",
    "    best_params = json.load(f)"
   ]
  },
  {
   "cell_type": "markdown",
   "metadata": {},
   "source": [
    "# 4. Model Training and Checkpointing"
   ]
  },
  {
   "cell_type": "code",
   "execution_count": 19,
   "metadata": {},
   "outputs": [],
   "source": [
    "batch_size = best_params[\"batch_size\"]\n",
    "train_loader = DataLoader(train_dataset, batch_size=batch_size, shuffle=True)\n",
    "val_loader = DataLoader(val_dataset, batch_size=batch_size, shuffle=False)\n",
    "test_loader = DataLoader(test_dataset, batch_size=batch_size, shuffle=False)\n",
    "\n",
    "model = HARModel(\n",
    "    input_size=x_train_split.shape[2],\n",
    "    hidden_size=best_params[\"hidden_size\"],\n",
    "    output_size=n_classes,\n",
    "    dropout_rate=best_params[\"dropout_rate\"]\n",
    ").to(device)\n",
    "\n",
    "criterion = nn.CrossEntropyLoss()\n",
    "optimizer = optim.Adam(model.parameters(), lr=best_params[\"learning_rate\"])\n",
    "start_epoch = 0"
   ]
  },
  {
   "cell_type": "markdown",
   "metadata": {},
   "source": [
    "## Optionally load checkpoint"
   ]
  },
  {
   "cell_type": "code",
   "execution_count": 24,
   "metadata": {},
   "outputs": [
    {
     "name": "stdout",
     "output_type": "stream",
     "text": [
      "Best model saved at epoch 1\n",
      "Epoch 1/50: Train Loss = 1.1845, Val Loss = 0.8617\n",
      "Best model saved at epoch 2\n",
      "Epoch 2/50: Train Loss = 0.6804, Val Loss = 0.5144\n",
      "Best model saved at epoch 3\n",
      "Epoch 3/50: Train Loss = 0.4589, Val Loss = 0.3036\n",
      "Best model saved at epoch 4\n",
      "Epoch 4/50: Train Loss = 0.2522, Val Loss = 0.2225\n",
      "Best model saved at epoch 5\n",
      "Epoch 5/50: Train Loss = 0.2044, Val Loss = 0.1736\n",
      "Epoch 6/50: Train Loss = 0.1716, Val Loss = 0.2102\n",
      "Best model saved at epoch 7\n",
      "Epoch 7/50: Train Loss = 0.1548, Val Loss = 0.1453\n",
      "Epoch 8/50: Train Loss = 0.1612, Val Loss = 0.1702\n",
      "Best model saved at epoch 9\n",
      "Epoch 9/50: Train Loss = 0.1373, Val Loss = 0.1411\n",
      "Best model saved at epoch 10\n",
      "Epoch 10/50: Train Loss = 0.1124, Val Loss = 0.1344\n",
      "Best model saved at epoch 11\n",
      "Epoch 11/50: Train Loss = 0.1088, Val Loss = 0.1317\n",
      "Epoch 12/50: Train Loss = 0.1347, Val Loss = 0.1337\n",
      "Epoch 13/50: Train Loss = 0.1168, Val Loss = 0.1338\n",
      "Epoch 14/50: Train Loss = 0.1257, Val Loss = 0.1749\n",
      "Best model saved at epoch 15\n",
      "Epoch 15/50: Train Loss = 0.1162, Val Loss = 0.1182\n",
      "Epoch 16/50: Train Loss = 0.1187, Val Loss = 0.1291\n",
      "Epoch 17/50: Train Loss = 0.1101, Val Loss = 0.1319\n",
      "Epoch 18/50: Train Loss = 0.1098, Val Loss = 0.1267\n",
      "Epoch 19/50: Train Loss = 0.1219, Val Loss = 0.1698\n",
      "Epoch 20/50: Train Loss = 0.1200, Val Loss = 0.1254\n",
      "Epoch 21/50: Train Loss = 0.1031, Val Loss = 0.1311\n",
      "Epoch 22/50: Train Loss = 0.1016, Val Loss = 0.1380\n",
      "Epoch 23/50: Train Loss = 0.1038, Val Loss = 0.1225\n",
      "Epoch 24/50: Train Loss = 0.1046, Val Loss = 0.1351\n",
      "Epoch 25/50: Train Loss = 0.1319, Val Loss = 0.1798\n",
      "Epoch 26/50: Train Loss = 0.1528, Val Loss = 0.1308\n",
      "Epoch 27/50: Train Loss = 0.1116, Val Loss = 0.1186\n",
      "Epoch 28/50: Train Loss = 0.1105, Val Loss = 0.1285\n",
      "Epoch 29/50: Train Loss = 0.1003, Val Loss = 0.1296\n",
      "Epoch 30/50: Train Loss = 0.1055, Val Loss = 0.1401\n",
      "Epoch 31/50: Train Loss = 0.1013, Val Loss = 0.1313\n",
      "Epoch 32/50: Train Loss = 0.1052, Val Loss = 0.1536\n",
      "Epoch 33/50: Train Loss = 0.0973, Val Loss = 0.1340\n",
      "Epoch 34/50: Train Loss = 0.1094, Val Loss = 0.1548\n",
      "Epoch 35/50: Train Loss = 0.1125, Val Loss = 0.1589\n",
      "Epoch 36/50: Train Loss = 0.1271, Val Loss = 0.1544\n",
      "Epoch 37/50: Train Loss = 0.1137, Val Loss = 0.1415\n",
      "Epoch 38/50: Train Loss = 0.1036, Val Loss = 0.1447\n",
      "Epoch 39/50: Train Loss = 0.0985, Val Loss = 0.1426\n",
      "Epoch 40/50: Train Loss = 0.0976, Val Loss = 0.1475\n",
      "Epoch 41/50: Train Loss = 0.0986, Val Loss = 0.1406\n",
      "Epoch 42/50: Train Loss = 0.0936, Val Loss = 0.1360\n",
      "Epoch 43/50: Train Loss = 0.0992, Val Loss = 0.2123\n",
      "Epoch 44/50: Train Loss = 0.1120, Val Loss = 0.1496\n",
      "Epoch 45/50: Train Loss = 0.0986, Val Loss = 0.1680\n",
      "Epoch 46/50: Train Loss = 0.0966, Val Loss = 0.1487\n",
      "Epoch 47/50: Train Loss = 0.0990, Val Loss = 0.1414\n",
      "Epoch 48/50: Train Loss = 0.0941, Val Loss = 0.1672\n",
      "Epoch 49/50: Train Loss = 0.0977, Val Loss = 0.1744\n",
      "Epoch 50/50: Train Loss = 0.2747, Val Loss = 0.1995\n"
     ]
    }
   ],
   "source": [
    "if os.path.exists(checkpoint_path):\n",
    "    checkpoint = torch.load(checkpoint_path)\n",
    "    model.load_state_dict(checkpoint[\"model_state_dict\"])\n",
    "    optimizer.load_state_dict(checkpoint[\"optimizer_state_dict\"])\n",
    "    start_epoch = checkpoint[\"epoch\"]\n",
    "    print(f\"Resuming training from epoch {start_epoch}\")\n",
    "\n",
    "train_losses = []\n",
    "val_losses = []\n",
    "best_val_loss = float(\"inf\")\n",
    "num_epochs = 50\n",
    "\n",
    "for epoch in range(start_epoch, num_epochs):\n",
    "    model.train()\n",
    "    train_loss = 0.0\n",
    "    for x_batch, y_batch in train_loader:\n",
    "        x_batch = x_batch.to(device)\n",
    "        y_batch = y_batch.to(device)\n",
    "        optimizer.zero_grad()\n",
    "        outputs = model(x_batch)\n",
    "        loss = criterion(outputs, y_batch)\n",
    "        loss.backward()\n",
    "        optimizer.step()\n",
    "        train_loss += loss.item() * x_batch.size(0)\n",
    "    train_loss /= len(train_loader.dataset)\n",
    "    train_losses.append(train_loss)\n",
    "\n",
    "    val_loss = 0.0\n",
    "    model.eval()\n",
    "    with torch.no_grad():\n",
    "        for x_batch, y_batch in val_loader:\n",
    "            x_batch = x_batch.to(device)\n",
    "            y_batch = y_batch.to(device)\n",
    "            outputs = model(x_batch)\n",
    "            loss = criterion(outputs, y_batch)\n",
    "            val_loss += loss.item() * x_batch.size(0)\n",
    "    val_loss /= len(val_loader.dataset)\n",
    "    val_losses.append(val_loss)\n",
    "\n",
    "    if val_loss < best_val_loss:\n",
    "        best_val_loss = val_loss\n",
    "        torch.save({\n",
    "            \"epoch\": epoch + 1,\n",
    "            \"model_state_dict\": model.state_dict(),\n",
    "            \"optimizer_state_dict\": optimizer.state_dict(),\n",
    "        }, checkpoint_path)\n",
    "        print(f\"Best model saved at epoch {epoch + 1}\")\n",
    "\n",
    "    print(f\"Epoch {epoch + 1}/{num_epochs}: Train Loss = {train_loss:.4f}, Val Loss = {val_loss:.4f}\")"
   ]
  },
  {
   "cell_type": "markdown",
   "metadata": {},
   "source": [
    "## loss curves"
   ]
  },
  {
   "cell_type": "code",
   "execution_count": 25,
   "metadata": {},
   "outputs": [
    {
     "data": {
      "image/png": "[encoded data removed]",
      "text/plain": [
       "<Figure size 1000x500 with 1 Axes>"
      ]
     },
     "metadata": {},
     "output_type": "display_data"
    }
   ],
   "source": [
    "plt.figure(figsize=(10, 5))\n",
    "plt.plot(range(1, num_epochs + 1), train_losses, label='Training Loss')\n",
    "plt.plot(range(1, num_epochs + 1), val_losses, label='Validation Loss')\n",
    "plt.title('Loss Curves')\n",
    "plt.xlabel('Epochs')\n",
    "plt.ylabel('Loss')\n",
    "plt.legend()\n",
    "plt.show()"
   ]
  },
  {
   "cell_type": "markdown",
   "metadata": {},
   "source": [
    "# 5. Evaluation and Visualization"
   ]
  },
  {
   "cell_type": "code",
   "execution_count": 26,
   "metadata": {},
   "outputs": [
    {
     "name": "stdout",
     "output_type": "stream",
     "text": [
      "Test Loss: 0.3532\n",
      "\n",
      "Classification Report:\n",
      "                    precision    recall  f1-score   support\n",
      "\n",
      "           WALKING       0.89      0.95      0.92       496\n",
      "  WALKING_UPSTAIRS       0.85      0.87      0.86       471\n",
      "WALKING_DOWNSTAIRS       0.96      0.91      0.93       420\n",
      "           SITTING       0.88      0.74      0.80       491\n",
      "          STANDING       0.78      0.91      0.84       532\n",
      "            LAYING       1.00      0.95      0.98       537\n",
      "\n",
      "          accuracy                           0.89      2947\n",
      "         macro avg       0.89      0.89      0.89      2947\n",
      "      weighted avg       0.89      0.89      0.89      2947\n",
      "\n"
     ]
    }
   ],
   "source": [
    "model.eval()\n",
    "test_loss = 0.0\n",
    "all_preds = []\n",
    "all_labels = []\n",
    "\n",
    "with torch.no_grad():\n",
    "    for x_batch, y_batch in test_loader:\n",
    "        x_batch = x_batch.to(device)\n",
    "        y_batch = y_batch.to(device)\n",
    "        outputs = model(x_batch)\n",
    "        loss = criterion(outputs, y_batch)\n",
    "        test_loss += loss.item() * x_batch.size(0)\n",
    "        preds = outputs.argmax(dim=1)\n",
    "        all_preds.extend(preds.cpu().numpy())\n",
    "        all_labels.extend(y_batch.cpu().numpy())\n",
    "\n",
    "test_loss = test_loss / len(test_loader.dataset)\n",
    "print(f\"Test Loss: {test_loss:.4f}\")\n",
    "\n",
    "print(\"\\nClassification Report:\")\n",
    "print(classification_report(all_labels, all_preds, target_names=labels))"
   ]
  },
  {
   "cell_type": "markdown",
   "metadata": {},
   "source": [
    "## Confusion Matrix"
   ]
  },
  {
   "cell_type": "code",
   "execution_count": 27,
   "metadata": {},
   "outputs": [
    {
     "data": {
      "image/png": "[encoded data removed]",
      "text/plain": [
       "<Figure size 1000x800 with 2 Axes>"
      ]
     },
     "metadata": {},
     "output_type": "display_data"
    }
   ],
   "source": [
    "conf_matrix = confusion_matrix(all_labels, all_preds)\n",
    "plt.figure(figsize=(10, 8))\n",
    "sns.heatmap(conf_matrix, annot=True, fmt='d', cmap=plt.cm.Blues, xticklabels=labels, yticklabels=labels)\n",
    "plt.title('Confusion Matrix')\n",
    "plt.ylabel('True label')\n",
    "plt.xlabel('Predicted label')\n",
    "plt.show()"
   ]
  },
  {
   "cell_type": "markdown",
   "metadata": {},
   "source": [
    "# 6. Conclusion"
   ]
  },
  {
   "cell_type": "markdown",
   "metadata": {},
   "source": [
    "- 모델은 전체적으로 높은 정확도와 성능을 보임.\n",
    "\n",
    "- SITTING과 STANDING은 정적인 행동이라서인지 다른 클래스에 비해서는 낮음."
   ]
  }
 ],
 "metadata": {
  "kernelspec": {
   "display_name": "myenv3.8",
   "language": "python",
   "name": "python3"
  },
  "language_info": {
   "codemirror_mode": {
    "name": "ipython",
    "version": 3
   },
   "file_extension": ".py",
   "mimetype": "text/x-python",
   "name": "python",
   "nbconvert_exporter": "python",
   "pygments_lexer": "ipython3",
   "version": "3.8.20"
  }
 },
 "nbformat": 4,
 "nbformat_minor": 2
}
